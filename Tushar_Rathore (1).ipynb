{
  "nbformat": 4,
  "nbformat_minor": 0,
  "metadata": {
    "colab": {
      "name": "Tushar_Rathore.ipynb",
      "provenance": [],
      "collapsed_sections": []
    },
    "kernelspec": {
      "name": "python3",
      "display_name": "Python 3"
    },
    "language_info": {
      "name": "python"
    }
  },
  "cells": [
    {
      "cell_type": "code",
      "metadata": {
        "colab": {
          "base_uri": "https://localhost:8080/"
        },
        "id": "NXopypCTiJB3",
        "outputId": "ab244a61-7556-4013-bee5-6bc75a65359b"
      },
      "source": [
        "import hashlib\n",
        "\n",
        "#using hexdigest()\n",
        "print(hashlib.md5(\"This is a string\".encode('utf-8')).hexdigest())\n",
        "print(hashlib.md5(\"000005fab4534d05key9a055eb014e4e5d52write\".encode('utf-8')).hexdigest())\n",
        "\n",
        "#using digest()\n",
        "print(hashlib.md5(\"This is a string\".encode('utf-8')).digest())\n",
        "print(hashlib.md5(\"000005fab4534d05key9a055eb014e4e5d52write\".encode('utf-8')).digest())"
      ],
      "execution_count": 1,
      "outputs": [
        {
          "output_type": "stream",
          "text": [
            "41fb5b5ae4d57c5ee528adb00e5e8e74\n",
            "f927aa1d44b04f82738f38a031977344\n",
            "b'A\\xfb[Z\\xe4\\xd5|^\\xe5(\\xad\\xb0\\x0e^\\x8et'\n",
            "b\"\\xf9'\\xaa\\x1dD\\xb0O\\x82s\\x8f8\\xa01\\x97sD\"\n"
          ],
          "name": "stdout"
        }
      ]
    }
  ]
}